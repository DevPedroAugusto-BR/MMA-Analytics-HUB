{
 "cells": [
  {
   "metadata": {},
   "cell_type": "raw",
   "source": [
    "import pandas as pd\n",
    "import numpy as nd"
   ],
   "id": "76d9d3bcbf13bcb8"
  },
  {
   "metadata": {},
   "cell_type": "code",
   "outputs": [],
   "execution_count": null,
   "source": [
    "df_with_age = pd.read_csv(\"MMA-Analytics-HUB/Analysis/database/pro_mma_fighters_withAge.csv\")\n",
    "\n",
    "df_with_age.head()"
   ],
   "id": "c1a07d46f7f26854"
  },
  {
   "metadata": {},
   "cell_type": "code",
   "outputs": [],
   "execution_count": null,
   "source": [
    "df_with_wins_and_loses = pd.read_csv(\"Analysis/database/ufc-fighters-statistics_WithWinsAndLoses.csv\")\n",
    "\n",
    "df_with_wins_and_loses.head()"
   ],
   "id": "b89fb60107426d23"
  },
  {
   "metadata": {},
   "cell_type": "code",
   "outputs": [],
   "execution_count": null,
   "source": [
    "df_master_fights = pd.read_csv(\"Analysis/database/ufc-masterFights.csv\")\n",
    "\n",
    "df_master_fights.head()"
   ],
   "id": "ef28f7d99e7a9480"
  },
  {
   "metadata": {},
   "cell_type": "code",
   "outputs": [],
   "execution_count": null,
   "source": [
    "df_upcomingFights = pd.read_csv(\"Analysis/database/upcomingFights.csv\")\n",
    "\n",
    "df_upcomingFights.head()"
   ],
   "id": "48e87852efc0860"
  },
  {
   "metadata": {},
   "cell_type": "code",
   "outputs": [],
   "execution_count": null,
   "source": "",
   "id": "c2da4c542df3adc3"
  }
 ],
 "metadata": {},
 "nbformat": 4,
 "nbformat_minor": 5
}
