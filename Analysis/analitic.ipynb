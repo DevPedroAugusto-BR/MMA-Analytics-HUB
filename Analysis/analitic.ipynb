{
 "cells": [
  {
   "cell_type": "raw",
   "id": "76d9d3bcbf13bcb8",
   "metadata": {},
   "source": [
    "import pandas as pd\n",
    "import numpy as nd"
   ]
  },
  {
   "cell_type": "code",
   "execution_count": null,
   "id": "c1a07d46f7f26854",
   "metadata": {},
   "outputs": [],
   "source": [
    "df_with_age = pd.read_csv(\"MMA-Analytics-HUB/Analysis/database/pro_mma_fighters_withAge.csv\")\n",
    "\n",
    "df_with_age.head()"
   ]
  },
  {
   "cell_type": "code",
   "execution_count": null,
   "id": "b89fb60107426d23",
   "metadata": {},
   "outputs": [],
   "source": [
    "df_with_wins_and_loses = pd.read_csv(\"Analysis/database/ufc-fighters-statistics_WithWinsAndLoses.csv\")\n",
    "\n",
    "df_with_wins_and_loses.head()"
   ]
  },
  {
   "cell_type": "code",
   "execution_count": null,
   "id": "ef28f7d99e7a9480",
   "metadata": {},
   "outputs": [],
   "source": [
    "df_master_fights = pd.read_csv(\"Analysis/database/ufc-masterFights.csv\")\n",
    "\n",
    "df_master_fights.head()"
   ]
  },
  {
   "cell_type": "code",
   "execution_count": null,
   "id": "48e87852efc0860",
   "metadata": {},
   "outputs": [],
   "source": [
    "df_upcomingFights = pd.read_csv(\"Analysis/database/upcomingFights.csv\")\n",
    "\n",
    "df_upcomingFights.head()"
   ]
  },
  {
   "cell_type": "code",
   "execution_count": null,
   "id": "c2da4c542df3adc3",
   "metadata": {},
   "outputs": [],
   "source": []
  }
 ],
 "metadata": {
  "kernelspec": {
   "display_name": "Python 3",
   "language": "python",
   "name": "python3"
  },
  "language_info": {
   "name": "python",
   "version": "3.13.3"
  }
 },
 "nbformat": 4,
 "nbformat_minor": 5
}
