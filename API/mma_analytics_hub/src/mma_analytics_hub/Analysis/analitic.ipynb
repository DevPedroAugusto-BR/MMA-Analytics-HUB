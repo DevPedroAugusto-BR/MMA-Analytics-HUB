{
 "cells": [
  {
   "cell_type": "raw",
   "id": "76d9d3bcbf13bcb8",
   "metadata": {
    "vscode": {
     "languageId": "raw"
    }
   },
   "source": [
    "import pandas as pd\n",
    "import numpy as nd"
   ]
  },
  {
   "cell_type": "code",
   "execution_count": 2,
   "id": "c1a07d46f7f26854",
   "metadata": {},
   "outputs": [
    {
     "name": "stderr",
     "output_type": "stream",
     "text": [
      "<>:1: SyntaxWarning: invalid escape sequence '\\d'\n",
      "<>:1: SyntaxWarning: invalid escape sequence '\\d'\n",
      "C:\\Users\\Perfil\\AppData\\Local\\Temp\\ipykernel_8464\\2693248139.py:1: SyntaxWarning: invalid escape sequence '\\d'\n",
      "  df_with_age = pd.read_csv(\"Analysis\\database\\pro_mma_fighters_withAge.csv\")\n"
     ]
    },
    {
     "ename": "NameError",
     "evalue": "name 'pd' is not defined",
     "output_type": "error",
     "traceback": [
      "\u001b[31m---------------------------------------------------------------------------\u001b[39m",
      "\u001b[31mNameError\u001b[39m                                 Traceback (most recent call last)",
      "\u001b[36mCell\u001b[39m\u001b[36m \u001b[39m\u001b[32mIn[2]\u001b[39m\u001b[32m, line 1\u001b[39m\n\u001b[32m----> \u001b[39m\u001b[32m1\u001b[39m df_with_age = \u001b[43mpd\u001b[49m.read_csv(\u001b[33m\"\u001b[39m\u001b[33mAnalysis\u001b[39m\u001b[33m\\\u001b[39m\u001b[33mdatabase\u001b[39m\u001b[33m\\\u001b[39m\u001b[33mpro_mma_fighters_withAge.csv\u001b[39m\u001b[33m\"\u001b[39m)\n\u001b[32m      3\u001b[39m df_with_age.head()\n",
      "\u001b[31mNameError\u001b[39m: name 'pd' is not defined"
     ]
    }
   ],
   "source": [
    "df_with_age = pd.read_csv(\"Analysis\\database\\pro_mma_fighters_withAge.csv\")\n",
    "\n",
    "df_with_age.head()"
   ]
  },
  {
   "cell_type": "code",
   "execution_count": null,
   "id": "b89fb60107426d23",
   "metadata": {},
   "outputs": [],
   "source": [
    "df_with_wins_and_loses = pd.read_csv(\"Analysis\\database\\ufc-fighters-statistics_WithWinsAndLoses.csv\")\n",
    "\n",
    "df_with_wins_and_loses.head()"
   ]
  },
  {
   "cell_type": "code",
   "execution_count": null,
   "id": "ef28f7d99e7a9480",
   "metadata": {},
   "outputs": [],
   "source": [
    "df_master_fights = pd.read_csv(\"Analysis\\database\\ufc-masterFights.csv\")\n",
    "\n",
    "df_master_fights.head()"
   ]
  },
  {
   "cell_type": "code",
   "execution_count": null,
   "id": "48e87852efc0860",
   "metadata": {},
   "outputs": [],
   "source": [
    "df_upcomingFights = pd.read_csv(\"Analysis\\database\\upcomingFights.csv\")\n",
    "\n",
    "df_upcomingFights.head()"
   ]
  },
  {
   "cell_type": "code",
   "execution_count": null,
   "id": "c2da4c542df3adc3",
   "metadata": {},
   "outputs": [],
   "source": []
  }
 ],
 "metadata": {
  "kernelspec": {
   "display_name": "Python 3",
   "language": "python",
   "name": "python3"
  },
  "language_info": {
   "codemirror_mode": {
    "name": "ipython",
    "version": 3
   },
   "file_extension": ".py",
   "mimetype": "text/x-python",
   "name": "python",
   "nbconvert_exporter": "python",
   "pygments_lexer": "ipython3",
   "version": "3.13.3"
  }
 },
 "nbformat": 4,
 "nbformat_minor": 5
}
